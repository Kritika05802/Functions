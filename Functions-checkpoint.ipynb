{
 "cells": [
  {
   "cell_type": "code",
   "execution_count": null,
   "metadata": {},
   "outputs": [],
   "source": [
    "#prints the letters in a string in decreasing order of frequency"
   ]
  },
  {
   "cell_type": "code",
   "execution_count": 4,
   "metadata": {},
   "outputs": [
    {
     "name": "stdout",
     "output_type": "stream",
     "text": [
      "Please enter a string: Mississippi\n",
      "[('i', 4), ('s', 4), ('p', 2), ('M', 1)]\n"
     ]
    }
   ],
   "source": [
    "a=input(\"Please enter a string: \")\n",
    "def most_frequent(string):\n",
    "    mydict=dict()\n",
    "    for key in string:\n",
    "        if key not in mydict:\n",
    "            mydict[key]=1\n",
    "        else:\n",
    "            mydict[key]+=1\n",
    "    q=mydict.items()\n",
    "    n=sorted(q, key=lambda x: x[1], reverse=True)\n",
    "    return n\n",
    "print(most_frequent(a))"
   ]
  },
  {
   "cell_type": "code",
   "execution_count": null,
   "metadata": {},
   "outputs": [],
   "source": []
  }
 ],
 "metadata": {
  "kernelspec": {
   "display_name": "Python 3",
   "language": "python",
   "name": "python3"
  },
  "language_info": {
   "codemirror_mode": {
    "name": "ipython",
    "version": 3
   },
   "file_extension": ".py",
   "mimetype": "text/x-python",
   "name": "python",
   "nbconvert_exporter": "python",
   "pygments_lexer": "ipython3",
   "version": "3.8.5"
  }
 },
 "nbformat": 4,
 "nbformat_minor": 4
}
